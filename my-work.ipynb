{
 "cells": [
  {
   "cell_type": "code",
   "execution_count": 1,
   "metadata": {},
   "outputs": [],
   "source": [
    "def read_file(filepath):\n",
    "    tags=[]\n",
    "    sentence_tags = []\n",
    "    sentences = []\n",
    "    sentence = []\n",
    "    for line in open(filepath, encoding='utf-8'):\n",
    "        if line !='\\n':\n",
    "            word, tag = line.strip().split()\n",
    "            if word.startswith('http://') or word.startswith('https://'):\n",
    "                word = '<URL>'\n",
    "            if word.startswith('@'):\n",
    "                word = '<USR>'\n",
    "            sentence.append(word)\n",
    "            sentence_tags.append(tag)\n",
    "        if line == '\\n':\n",
    "            sentences.append(sentence)\n",
    "            tags.append(sentence_tags)\n",
    "            sentence = []\n",
    "            sentence_tags = []\n",
    "    return sentences, tags"
   ]
  },
  {
   "cell_type": "code",
   "execution_count": 2,
   "metadata": {},
   "outputs": [],
   "source": [
    "sents, tags = read_file('data/train.txt')"
   ]
  },
  {
   "cell_type": "code",
   "execution_count": 3,
   "metadata": {},
   "outputs": [
    {
     "data": {
      "text/plain": [
       "5795"
      ]
     },
     "execution_count": 3,
     "metadata": {},
     "output_type": "execute_result"
    }
   ],
   "source": [
    "len(sents)"
   ]
  },
  {
   "cell_type": "code",
   "execution_count": 4,
   "metadata": {},
   "outputs": [
    {
     "data": {
      "text/plain": [
       "5795"
      ]
     },
     "execution_count": 4,
     "metadata": {},
     "output_type": "execute_result"
    }
   ],
   "source": [
    "len(tags)"
   ]
  },
  {
   "cell_type": "code",
   "execution_count": 5,
   "metadata": {},
   "outputs": [
    {
     "name": "stdout",
     "output_type": "stream",
     "text": [
      "Apple ----> B-product\n",
      "MacBook ----> I-product\n",
      "Pro ----> I-product\n",
      "A1278 ----> I-product\n",
      "13.3 ----> I-product\n",
      "\" ----> I-product\n",
      "Laptop ----> I-product\n",
      "- ----> I-product\n",
      "MD101LL/A ----> I-product\n",
      "( ----> O\n",
      "June ----> O\n",
      ", ----> O\n",
      "2012 ----> O\n",
      ") ----> O\n",
      "- ----> O\n",
      "Full ----> O\n",
      "read ----> O\n",
      "by ----> O\n",
      "eBay ----> B-company\n",
      "<URL> ----> O\n",
      "<URL> ----> O\n"
     ]
    }
   ],
   "source": [
    "for word, tag in zip(sents[1], tags[1]):\n",
    "    print(f\"{word} ----> {tag}\")"
   ]
  },
  {
   "cell_type": "code",
   "execution_count": 6,
   "metadata": {},
   "outputs": [
    {
     "name": "stderr",
     "output_type": "stream",
     "text": [
      "Using TensorFlow backend.\n"
     ]
    }
   ],
   "source": [
    "from keras.preprocessing.text import Tokenizer\n",
    "\n",
    "tweet_words_tokenizer = Tokenizer(lower=False, oov_token='<UNK>')\n",
    "tweet_words_tokenizer.fit_on_texts(sents)"
   ]
  },
  {
   "cell_type": "code",
   "execution_count": 7,
   "metadata": {},
   "outputs": [],
   "source": [
    "from collections import defaultdict\n",
    "\n",
    "len_dict = defaultdict(int)\n",
    "for sent in sents:\n",
    "    len_dict[len(sent)]+=1\n"
   ]
  },
  {
   "cell_type": "code",
   "execution_count": 8,
   "metadata": {},
   "outputs": [],
   "source": [
    "import matplotlib.pyplot as plt"
   ]
  },
  {
   "cell_type": "code",
   "execution_count": 12,
   "metadata": {},
   "outputs": [],
   "source": [
    "lens_, counts_ = [], []\n",
    "for len_, count_ in len_dict.items():\n",
    "        lens_.append(len_)\n",
    "        counts_.append(count_)"
   ]
  },
  {
   "cell_type": "code",
   "execution_count": 15,
   "metadata": {},
   "outputs": [
    {
     "data": {
      "text/plain": [
       "<BarContainer object of 40 artists>"
      ]
     },
     "execution_count": 15,
     "metadata": {},
     "output_type": "execute_result"
    },
    {
     "data": {
      "image/png": "[encoded data removed]",
      "text/plain": [
       "<Figure size 432x288 with 1 Axes>"
      ]
     },
     "metadata": {
      "needs_background": "light"
     },
     "output_type": "display_data"
    }
   ],
   "source": [
    "plt.bar(lens_, counts_)"
   ]
  },
  {
   "cell_type": "code",
   "execution_count": 18,
   "metadata": {},
   "outputs": [
    {
     "data": {
      "text/plain": [
       "41"
      ]
     },
     "execution_count": 18,
     "metadata": {},
     "output_type": "execute_result"
    }
   ],
   "source": [
    "max(lens_)"
   ]
  },
  {
   "cell_type": "code",
   "execution_count": 19,
   "metadata": {},
   "outputs": [
    {
     "data": {
      "text/plain": [
       "1"
      ]
     },
     "execution_count": 19,
     "metadata": {},
     "output_type": "execute_result"
    }
   ],
   "source": [
    "len_dict[41]"
   ]
  },
  {
   "cell_type": "code",
   "execution_count": 20,
   "metadata": {},
   "outputs": [],
   "source": [
    "sequences = tweet_words_tokenizer.texts_to_sequences(sents)"
   ]
  },
  {
   "cell_type": "code",
   "execution_count": 22,
   "metadata": {},
   "outputs": [],
   "source": [
    "# assuming max len as 40\n",
    "from keras.preprocessing.sequence import pad_sequences\n",
    "padded_sequences = pad_sequences(sequences, padding='post', maxlen=40)\n"
   ]
  },
  {
   "cell_type": "code",
   "execution_count": 26,
   "metadata": {},
   "outputs": [],
   "source": [
    "tag_tokenizer = Tokenizer(lower=False,)\n",
    "tag_tokenizer.fit_on_texts(tags)\n",
    "tag_sequences = tag_tokenizer.texts_to_sequences(tags)"
   ]
  },
  {
   "cell_type": "code",
   "execution_count": 37,
   "metadata": {},
   "outputs": [],
   "source": [
    "from keras.models import Sequential\n",
    "from keras.layers import LSTM\n",
    "from keras.layers import Dense\n",
    "from keras.layers import Embedding, Dropout\n",
    "from keras.layers import TimeDistributed, Bidirectional"
   ]
  },
  {
   "cell_type": "code",
   "execution_count": 82,
   "metadata": {},
   "outputs": [],
   "source": [
    "vocab_size = len(tweet_words_tokenizer.word_index)\n",
    "num_classes = len(tag_tokenizer.word_index)"
   ]
  },
  {
   "cell_type": "code",
   "execution_count": null,
   "metadata": {},
   "outputs": [],
   "source": []
  },
  {
   "cell_type": "code",
   "execution_count": 85,
   "metadata": {},
   "outputs": [],
   "source": [
    "model = Sequential()\n",
    "model.add(Embedding(vocab_size+1, 256, mask_zero=True, input_length=40 ))\n",
    "model.add(Dropout(0.1))\n",
    "model.add(Bidirectional(LSTM(32, return_sequences=True)))\n",
    "model.add(TimeDistributed(Dense(num_classes, activation='softmax')))\n",
    "\n",
    "model.compile(optimizer=\"adam\", loss=\"sparse_categorical_crossentropy\")"
   ]
  },
  {
   "cell_type": "code",
   "execution_count": 63,
   "metadata": {},
   "outputs": [
    {
     "name": "stdout",
     "output_type": "stream",
     "text": [
      "Model: \"sequential_5\"\n",
      "_________________________________________________________________\n",
      "Layer (type)                 Output Shape              Param #   \n",
      "=================================================================\n",
      "embedding_5 (Embedding)      (None, 40, 256)           4857344   \n",
      "_________________________________________________________________\n",
      "dropout_5 (Dropout)          (None, 40, 256)           0         \n",
      "_________________________________________________________________\n",
      "bidirectional_4 (Bidirection (None, 40, 64)            73984     \n",
      "_________________________________________________________________\n",
      "time_distributed_4 (TimeDist (None, 40, 21)            1365      \n",
      "=================================================================\n",
      "Total params: 4,932,693\n",
      "Trainable params: 4,932,693\n",
      "Non-trainable params: 0\n",
      "_________________________________________________________________\n"
     ]
    }
   ],
   "source": [
    "model.summary()"
   ]
  },
  {
   "cell_type": "code",
   "execution_count": 43,
   "metadata": {},
   "outputs": [],
   "source": [
    "import numpy as np\n",
    "y_arr = np.array(tag_sequences)"
   ]
  },
  {
   "cell_type": "code",
   "execution_count": 51,
   "metadata": {},
   "outputs": [
    {
     "data": {
      "text/plain": [
       "1"
      ]
     },
     "execution_count": 51,
     "metadata": {},
     "output_type": "execute_result"
    }
   ],
   "source": [
    "tag_tokenizer.word_index['O']"
   ]
  },
  {
   "cell_type": "code",
   "execution_count": 57,
   "metadata": {},
   "outputs": [],
   "source": [
    "y_arr_padded = pad_sequences(tag_sequences, padding='post', maxlen=40, value=0)"
   ]
  },
  {
   "cell_type": "code",
   "execution_count": 58,
   "metadata": {},
   "outputs": [
    {
     "data": {
      "text/plain": [
       "array([[ 1,  1,  1, ...,  0,  0,  0],\n",
       "       [10,  7,  7, ...,  0,  0,  0],\n",
       "       [ 1,  1,  1, ...,  0,  0,  0],\n",
       "       ...,\n",
       "       [ 1,  1,  1, ...,  0,  0,  0],\n",
       "       [ 1,  1,  1, ...,  0,  0,  0],\n",
       "       [ 1,  1,  1, ...,  0,  0,  0]])"
      ]
     },
     "execution_count": 58,
     "metadata": {},
     "output_type": "execute_result"
    }
   ],
   "source": [
    "y_arr_padded"
   ]
  },
  {
   "cell_type": "code",
   "execution_count": 65,
   "metadata": {},
   "outputs": [],
   "source": [
    "y_arr = y_arr_padded.reshape(-1, 40, 1)"
   ]
  },
  {
   "cell_type": "code",
   "execution_count": 66,
   "metadata": {},
   "outputs": [
    {
     "data": {
      "text/plain": [
       "(5795, 40, 1)"
      ]
     },
     "execution_count": 66,
     "metadata": {},
     "output_type": "execute_result"
    }
   ],
   "source": [
    "y_arr.shape"
   ]
  },
  {
   "cell_type": "code",
   "execution_count": 69,
   "metadata": {},
   "outputs": [
    {
     "data": {
      "text/plain": [
       "{'O': 1,\n",
       " 'B-geo-loc': 2,\n",
       " 'B-person': 3,\n",
       " 'I-other': 4,\n",
       " 'B-other': 5,\n",
       " 'B-company': 6,\n",
       " 'I-product': 7,\n",
       " 'I-person': 8,\n",
       " 'I-facility': 9,\n",
       " 'B-product': 10,\n",
       " 'B-facility': 11,\n",
       " 'B-musicartist': 12,\n",
       " 'I-geo-loc': 13,\n",
       " 'I-company': 14,\n",
       " 'B-sportsteam': 15,\n",
       " 'I-musicartist': 16,\n",
       " 'I-movie': 17,\n",
       " 'I-sportsteam': 18,\n",
       " 'B-movie': 19,\n",
       " 'B-tvshow': 20,\n",
       " 'I-tvshow': 21}"
      ]
     },
     "execution_count": 69,
     "metadata": {},
     "output_type": "execute_result"
    }
   ],
   "source": [
    "tag_tokenizer.word_index"
   ]
  },
  {
   "cell_type": "code",
   "execution_count": 71,
   "metadata": {},
   "outputs": [],
   "source": [
    "for key in tag_tokenizer.word_index:\n",
    "    tag_tokenizer.word_index[key]-=1"
   ]
  },
  {
   "cell_type": "code",
   "execution_count": 73,
   "metadata": {},
   "outputs": [],
   "source": [
    "tag_tokenizer.word_index['PAD'] = 21"
   ]
  },
  {
   "cell_type": "code",
   "execution_count": 74,
   "metadata": {},
   "outputs": [],
   "source": [
    "tag_sequences = tag_tokenizer.texts_to_sequences(tags)\n",
    "y_arr_padded = pad_sequences(tag_sequences, padding='post', maxlen=40, value=21)\n",
    "y_arr = y_arr_padded.reshape(-1, 40, 1)"
   ]
  },
  {
   "cell_type": "code",
   "execution_count": 78,
   "metadata": {},
   "outputs": [
    {
     "data": {
      "text/plain": [
       "22"
      ]
     },
     "execution_count": 78,
     "metadata": {},
     "output_type": "execute_result"
    }
   ],
   "source": [
    "len(tag_tokenizer.word_index)"
   ]
  },
  {
   "cell_type": "code",
   "execution_count": 80,
   "metadata": {},
   "outputs": [
    {
     "data": {
      "text/plain": [
       "(5795, 40, 1)"
      ]
     },
     "execution_count": 80,
     "metadata": {},
     "output_type": "execute_result"
    }
   ],
   "source": [
    "y_arr.shape"
   ]
  },
  {
   "cell_type": "code",
   "execution_count": 86,
   "metadata": {},
   "outputs": [
    {
     "name": "stdout",
     "output_type": "stream",
     "text": [
      "Epoch 1/1\n",
      "5795/5795 [==============================] - 27s 5ms/step - loss: 0.8095\n"
     ]
    },
    {
     "data": {
      "text/plain": [
       "<keras.callbacks.History at 0x199b24ac240>"
      ]
     },
     "execution_count": 86,
     "metadata": {},
     "output_type": "execute_result"
    }
   ],
   "source": [
    "model.fit(padded_sequences, y_arr)"
   ]
  },
  {
   "cell_type": "code",
   "execution_count": 87,
   "metadata": {},
   "outputs": [
    {
     "name": "stdout",
     "output_type": "stream",
     "text": [
      "Epoch 1/15\n",
      "5795/5795 [==============================] - 24s 4ms/step - loss: 0.3487\n",
      "Epoch 2/15\n",
      "5795/5795 [==============================] - 24s 4ms/step - loss: 0.2688\n",
      "Epoch 3/15\n",
      "5795/5795 [==============================] - 24s 4ms/step - loss: 0.2339\n",
      "Epoch 4/15\n",
      "5795/5795 [==============================] - 24s 4ms/step - loss: 0.2005\n",
      "Epoch 5/15\n",
      "5795/5795 [==============================] - 24s 4ms/step - loss: 0.1568\n",
      "Epoch 6/15\n",
      "5795/5795 [==============================] - 24s 4ms/step - loss: 0.1114\n",
      "Epoch 7/15\n",
      "5795/5795 [==============================] - 24s 4ms/step - loss: 0.0784\n",
      "Epoch 8/15\n",
      "5795/5795 [==============================] - 24s 4ms/step - loss: 0.0554\n",
      "Epoch 9/15\n",
      "5795/5795 [==============================] - 24s 4ms/step - loss: 0.0390\n",
      "Epoch 10/15\n",
      "5795/5795 [==============================] - 24s 4ms/step - loss: 0.0280\n",
      "Epoch 11/15\n",
      "5795/5795 [==============================] - 24s 4ms/step - loss: 0.0202\n",
      "Epoch 12/15\n",
      "5795/5795 [==============================] - 23s 4ms/step - loss: 0.0153\n",
      "Epoch 13/15\n",
      "5795/5795 [==============================] - 23s 4ms/step - loss: 0.0117\n",
      "Epoch 14/15\n",
      "5795/5795 [==============================] - 22s 4ms/step - loss: 0.0094\n",
      "Epoch 15/15\n",
      "5795/5795 [==============================] - 23s 4ms/step - loss: 0.0076\n"
     ]
    }
   ],
   "source": [
    "history = model.fit(padded_sequences, y_arr, epochs=15)"
   ]
  },
  {
   "cell_type": "code",
   "execution_count": 91,
   "metadata": {},
   "outputs": [
    {
     "data": {
      "text/plain": [
       "array([[9, 6, 6, 6, 6, 6, 6, 6, 6, 0, 0, 0, 0, 0, 0, 0, 0, 0, 0, 0, 0, 0,\n",
       "        0, 0, 0, 0, 0, 0, 0, 0, 0, 0, 0, 0, 0, 0, 0, 0, 0, 0]],\n",
       "      dtype=int64)"
      ]
     },
     "execution_count": 91,
     "metadata": {},
     "output_type": "execute_result"
    }
   ],
   "source": [
    "model.predict_classes(padded_sequences[1].reshape(1,-1))"
   ]
  },
  {
   "cell_type": "code",
   "execution_count": 96,
   "metadata": {},
   "outputs": [],
   "source": [
    "classes = model.predict_classes(padded_sequences[1].reshape(1,-1))"
   ]
  },
  {
   "cell_type": "code",
   "execution_count": 97,
   "metadata": {},
   "outputs": [
    {
     "data": {
      "text/plain": [
       "['I-facility B-company B-company B-company B-company B-company B-company B-company B-company']"
      ]
     },
     "execution_count": 97,
     "metadata": {},
     "output_type": "execute_result"
    }
   ],
   "source": [
    "tag_tokenizer.sequences_to_texts(classes)"
   ]
  },
  {
   "cell_type": "code",
   "execution_count": 101,
   "metadata": {},
   "outputs": [
    {
     "data": {
      "text/plain": [
       "['Apple MacBook Pro A1278 13.3 \" Laptop - MD101LL/A ( June , 2012 ) - Full read by eBay <URL> <URL> <UNK> <UNK> <UNK> <UNK> <UNK> <UNK> <UNK> <UNK> <UNK> <UNK> <UNK> <UNK> <UNK> <UNK> <UNK> <UNK> <UNK> <UNK> <UNK>']"
      ]
     },
     "execution_count": 101,
     "metadata": {},
     "output_type": "execute_result"
    }
   ],
   "source": [
    "tweet_words_tokenizer.sequences_to_texts(padded_sequences[1].reshape(1,-1))"
   ]
  },
  {
   "cell_type": "code",
   "execution_count": 109,
   "metadata": {},
   "outputs": [
    {
     "data": {
      "text/plain": [
       "['I-facility B-company B-company B-company B-company B-company B-company B-company B-company B-other']"
      ]
     },
     "execution_count": 109,
     "metadata": {},
     "output_type": "execute_result"
    }
   ],
   "source": [
    "tag_tokenizer.sequences_to_texts([tag_sequences[1]])"
   ]
  },
  {
   "cell_type": "code",
   "execution_count": 114,
   "metadata": {},
   "outputs": [
    {
     "ename": "KeyError",
     "evalue": "0",
     "output_type": "error",
     "traceback": [
      "\u001b[1;31m---------------------------------------------------------------------------\u001b[0m",
      "\u001b[1;31mKeyError\u001b[0m                                  Traceback (most recent call last)",
      "\u001b[1;32m<ipython-input-114-86770ea3a8cc>\u001b[0m in \u001b[0;36m<module>\u001b[1;34m\u001b[0m\n\u001b[0;32m      1\u001b[0m \u001b[0msenten\u001b[0m \u001b[1;33m=\u001b[0m \u001b[1;33m[\u001b[0m\u001b[1;33m]\u001b[0m\u001b[1;33m\u001b[0m\u001b[1;33m\u001b[0m\u001b[0m\n\u001b[0;32m      2\u001b[0m \u001b[1;32mfor\u001b[0m \u001b[0mindex\u001b[0m \u001b[1;32min\u001b[0m \u001b[0mtag_sequences\u001b[0m\u001b[1;33m[\u001b[0m\u001b[1;36m1\u001b[0m\u001b[1;33m]\u001b[0m\u001b[1;33m:\u001b[0m\u001b[1;33m\u001b[0m\u001b[1;33m\u001b[0m\u001b[0m\n\u001b[1;32m----> 3\u001b[1;33m     \u001b[0msenten\u001b[0m\u001b[1;33m.\u001b[0m\u001b[0mappend\u001b[0m\u001b[1;33m(\u001b[0m\u001b[0mtag_tokenizer\u001b[0m\u001b[1;33m.\u001b[0m\u001b[0mindex_word\u001b[0m\u001b[1;33m[\u001b[0m\u001b[0mindex\u001b[0m\u001b[1;33m]\u001b[0m\u001b[1;33m)\u001b[0m\u001b[1;33m\u001b[0m\u001b[1;33m\u001b[0m\u001b[0m\n\u001b[0m\u001b[0;32m      4\u001b[0m \u001b[0mprint\u001b[0m\u001b[1;33m(\u001b[0m\u001b[1;34m' '\u001b[0m\u001b[1;33m.\u001b[0m\u001b[0mjoin\u001b[0m\u001b[1;33m(\u001b[0m\u001b[0msenten\u001b[0m\u001b[1;33m)\u001b[0m\u001b[1;33m)\u001b[0m\u001b[1;33m\u001b[0m\u001b[1;33m\u001b[0m\u001b[0m\n",
      "\u001b[1;31mKeyError\u001b[0m: 0"
     ]
    }
   ],
   "source": [
    "senten = []\n",
    "for index in tag_sequences[1]:\n",
    "    senten.append(tag_tokenizer.index_word[index])\n",
    "print(' '.join(senten))"
   ]
  },
  {
   "cell_type": "code",
   "execution_count": 115,
   "metadata": {},
   "outputs": [
    {
     "data": {
      "text/plain": [
       "{1: 'O',\n",
       " 2: 'B-geo-loc',\n",
       " 3: 'B-person',\n",
       " 4: 'I-other',\n",
       " 5: 'B-other',\n",
       " 6: 'B-company',\n",
       " 7: 'I-product',\n",
       " 8: 'I-person',\n",
       " 9: 'I-facility',\n",
       " 10: 'B-product',\n",
       " 11: 'B-facility',\n",
       " 12: 'B-musicartist',\n",
       " 13: 'I-geo-loc',\n",
       " 14: 'I-company',\n",
       " 15: 'B-sportsteam',\n",
       " 16: 'I-musicartist',\n",
       " 17: 'I-movie',\n",
       " 18: 'I-sportsteam',\n",
       " 19: 'B-movie',\n",
       " 20: 'B-tvshow',\n",
       " 21: 'I-tvshow'}"
      ]
     },
     "execution_count": 115,
     "metadata": {},
     "output_type": "execute_result"
    }
   ],
   "source": [
    "tag_tokenizer.index_word"
   ]
  },
  {
   "cell_type": "code",
   "execution_count": 116,
   "metadata": {},
   "outputs": [
    {
     "data": {
      "text/plain": [
       "defaultdict(int,\n",
       "            {'B-musicartist': 180,\n",
       "             'O': 5795,\n",
       "             'I-musicartist': 110,\n",
       "             'B-company': 493,\n",
       "             'I-product': 169,\n",
       "             'B-product': 254,\n",
       "             'B-person': 671,\n",
       "             'B-other': 669,\n",
       "             'I-other': 362,\n",
       "             'I-facility': 240,\n",
       "             'B-facility': 291,\n",
       "             'B-sportsteam': 142,\n",
       "             'B-geo-loc': 771,\n",
       "             'I-geo-loc': 191,\n",
       "             'I-company': 139,\n",
       "             'B-movie': 55,\n",
       "             'I-movie': 44,\n",
       "             'I-person': 358,\n",
       "             'I-tvshow': 32,\n",
       "             'B-tvshow': 57,\n",
       "             'I-sportsteam': 43})"
      ]
     },
     "execution_count": 116,
     "metadata": {},
     "output_type": "execute_result"
    }
   ],
   "source": [
    "tag_tokenizer.word_docs"
   ]
  },
  {
   "cell_type": "code",
   "execution_count": 119,
   "metadata": {},
   "outputs": [],
   "source": [
    "keys = list(tag_tokenizer.word_docs.keys())"
   ]
  },
  {
   "cell_type": "code",
   "execution_count": 120,
   "metadata": {},
   "outputs": [],
   "source": [
    "values = list(tag_tokenizer.word_docs.values())"
   ]
  },
  {
   "cell_type": "code",
   "execution_count": 123,
   "metadata": {},
   "outputs": [],
   "source": [
    "keys.remove('O')"
   ]
  },
  {
   "cell_type": "code",
   "execution_count": 124,
   "metadata": {},
   "outputs": [],
   "source": [
    "values.remove(5795)"
   ]
  },
  {
   "cell_type": "code",
   "execution_count": 125,
   "metadata": {},
   "outputs": [
    {
     "data": {
      "text/plain": [
       "<BarContainer object of 20 artists>"
      ]
     },
     "execution_count": 125,
     "metadata": {},
     "output_type": "execute_result"
    },
    {
     "data": {
      "image/png": "[encoded data removed]",
      "text/plain": [
       "<Figure size 432x288 with 1 Axes>"
      ]
     },
     "metadata": {
      "needs_background": "light"
     },
     "output_type": "display_data"
    }
   ],
   "source": [
    "plt.bar(keys, values)"
   ]
  }
 ],
 "metadata": {
  "kernelspec": {
   "display_name": "Python 3",
   "language": "python",
   "name": "python3"
  },
  "language_info": {
   "codemirror_mode": {
    "name": "ipython",
    "version": 3
   },
   "file_extension": ".py",
   "mimetype": "text/x-python",
   "name": "python",
   "nbconvert_exporter": "python",
   "pygments_lexer": "ipython3",
   "version": "3.7.3"
  }
 },
 "nbformat": 4,
 "nbformat_minor": 2
}
